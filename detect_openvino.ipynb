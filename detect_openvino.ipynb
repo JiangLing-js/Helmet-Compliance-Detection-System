{
 "cells": [
  {
   "cell_type": "code",
   "execution_count": 1,
   "id": "f82210da-4759-4826-b5fb-681e6830c1c9",
   "metadata": {
    "ExecuteTime": {
     "end_time": "2024-06-06T03:43:39.440031800Z",
     "start_time": "2024-06-06T03:43:38.630296100Z"
    }
   },
   "outputs": [
    {
     "name": "stdout",
     "output_type": "stream",
     "text": [
      "使用Core()初始化推理引擎: <Core: available plugins[CPU, GPU.0, GPU.1]>\n",
      "显示主机CPU/GPU设备信息。\n",
      "CPU: 13th Gen Intel(R) Core(TM) i9-13900HX\n",
      "GPU.0: Intel(R) RaptorLake-S Mobile Graphics Controller (iGPU)\n",
      "GPU.1: NVIDIA GeForce RTX 4060 Laptop GPU (dGPU)\n"
     ]
    }
   ],
   "source": [
    "from openvino.runtime import Core\n",
    "ie = Core()\n",
    "print(\"使用Core()初始化推理引擎: {}\".format(ie))\n",
    "\n",
    "print(\"显示主机CPU/GPU设备信息。\")\n",
    "devices = ie.available_devices\n",
    "for device in devices:\n",
    "    device_name = ie.get_property(device_name=device, property=\"FULL_DEVICE_NAME\")\n",
    "    print(f\"{device}: {device_name}\")\n"
   ]
  },
  {
   "cell_type": "code",
   "execution_count": 2,
   "id": "b438f0e9-8f7b-46f5-a528-8133ce45c46f",
   "metadata": {
    "ExecuteTime": {
     "end_time": "2024-06-06T03:43:42.241932200Z",
     "start_time": "2024-06-06T03:43:41.938741600Z"
    }
   },
   "outputs": [],
   "source": [
    "from openvino.runtime import Core, Model\n",
    "\n",
    "ie = Core()\n",
    "classification_model_xml = r\"bicycle_weights/best_openvino_model/best.xml\"\n",
    "\n",
    "model_ = ie.read_model(model=classification_model_xml)\n",
    "model = ie.compile_model(model=model_, device_name=\"CPU\")\n"
   ]
  },
  {
   "cell_type": "code",
   "execution_count": null,
   "id": "69415afa-cf49-4221-bf98-5941717723b4",
   "metadata": {},
   "outputs": [],
   "source": [
    "# model = core.compile_model(\"bicycle_weights/best_openvino_model/best.xml\", \"AUTO\")\n",
    "# model_helmet = core.compile_model(\"runs/detect/train7/weights/best_openvino_model/best.xml\", \"AUTO\")"
   ]
  },
  {
   "cell_type": "code",
   "execution_count": 3,
   "id": "2fcd88b6-f56b-474c-a7e5-ca8591fba566",
   "metadata": {
    "ExecuteTime": {
     "end_time": "2024-06-06T03:43:46.747728400Z",
     "start_time": "2024-06-06T03:43:46.535654600Z"
    }
   },
   "outputs": [],
   "source": [
    "model_xml = r\"runs/detect/train7/weights/best_openvino_model/best.xml\"\n",
    "\n",
    "model_h = ie.read_model(model=model_xml)\n",
    "model_helmet = ie.compile_model(model=model_xml, device_name=\"CPU\")"
   ]
  },
  {
   "cell_type": "code",
   "execution_count": 4,
   "outputs": [],
   "source": [
    "ir = model.create_infer_request()"
   ],
   "metadata": {
    "collapsed": false,
    "ExecuteTime": {
     "end_time": "2024-06-06T03:43:49.329579100Z",
     "start_time": "2024-06-06T03:43:49.320572300Z"
    }
   },
   "id": "3fd870b03e02b82"
  },
  {
   "cell_type": "code",
   "execution_count": 15,
   "outputs": [],
   "source": [
    "# 定义预处理函数\n",
    "def preprocess(image):\n",
    "    # Preprocess image data from OpenCV\n",
    "    [height, width, _] = image.shape\n",
    "    # length = max((height, width))\n",
    "    # letter_box = np.zeros((length, length, 3), np.uint8)\n",
    "    # letter_box[0:height, 0:width] = image\n",
    "    blob = cv2.dnn.blobFromImage(image, scalefactor=1 / 255, size=(width, height), swapRB=True)\n",
    "    return blob"
   ],
   "metadata": {
    "collapsed": false,
    "ExecuteTime": {
     "end_time": "2024-06-06T03:45:03.311552400Z",
     "start_time": "2024-06-06T03:45:03.291026600Z"
    }
   },
   "id": "6cd535318cf5578a"
  },
  {
   "cell_type": "code",
   "execution_count": null,
   "id": "d9bf8a8e-c88e-4def-b48b-b471e8e64418",
   "metadata": {},
   "outputs": [],
   "source": [
    "# infer_request = model.create_infer_request()\n",
    "# infer_request_helmet = model_helmet.create_infer_request()"
   ]
  },
  {
   "cell_type": "code",
   "execution_count": 5,
   "id": "a7388398-95e3-4c8f-902e-ad348b1951ef",
   "metadata": {
    "ExecuteTime": {
     "end_time": "2024-06-06T03:43:53.002184700Z",
     "start_time": "2024-06-06T03:43:52.922446600Z"
    }
   },
   "outputs": [
    {
     "name": "stdout",
     "output_type": "stream",
     "text": [
      "- model input: <ConstOutput: names[x] shape[?,3,?,?] type: f32>\n",
      "- model output: <ConstOutput: names[] shape[?,10,21..] type: f32>\n"
     ]
    }
   ],
   "source": [
    "from openvino.runtime import Core\n",
    "import cv2\n",
    "import numpy as np\n",
    "input_layer = model.input(0)\n",
    "output_layer = model.output(0)\n",
    "print(\"- model input: {}\".format(input_layer))\n",
    "print(\"- model output: {}\".format(output_layer))\n"
   ]
  },
  {
   "cell_type": "code",
   "execution_count": 16,
   "outputs": [
    {
     "name": "stdout",
     "output_type": "stream",
     "text": [
      "- input image shape: (720, 1280, 3)\n"
     ]
    }
   ],
   "source": [
    "image_filename = \"test_image_1.jpg\"\n",
    "image = cv2.imread(image_filename)\n",
    "print(\"- input image shape: {}\".format(image.shape))"
   ],
   "metadata": {
    "collapsed": false,
    "ExecuteTime": {
     "end_time": "2024-06-06T03:45:10.488205100Z",
     "start_time": "2024-06-06T03:45:10.476206700Z"
    }
   },
   "id": "d6b48ecf1c52922b"
  },
  {
   "cell_type": "code",
   "execution_count": 17,
   "outputs": [
    {
     "name": "stdout",
     "output_type": "stream",
     "text": [
      "(1, 3, 720, 1280)\n"
     ]
    }
   ],
   "source": [
    "# 根据模型的期望输入尺寸调整图像尺寸\n",
    "# image = image.transpose((2, 0, 1))  # 从 HWC 转为 CHW\n",
    "# input_height, input_width = image.shape[1], image.shape[2]\n",
    "# print(input_height, input_width)\n",
    "# image = image.reshape(1, 3, input_height, input_width)\n",
    "# print(image.shape)\n",
    "# input_data = np.expand_dims(np.transpose(image, (2, 0, 1)), 0).astype(np.float32)\n",
    "input_data = preprocess(image)\n",
    "print(input_data.shape)"
   ],
   "metadata": {
    "collapsed": false,
    "ExecuteTime": {
     "end_time": "2024-06-06T03:45:31.822931300Z",
     "start_time": "2024-06-06T03:45:31.780063Z"
    }
   },
   "id": "c4c8cd340d07d516"
  },
  {
   "cell_type": "code",
   "execution_count": 21,
   "outputs": [
    {
     "ename": "RuntimeError",
     "evalue": "Exception from src\\inference\\src\\cpp\\infer_request.cpp:223:\nException from src\\plugins\\intel_cpu\\src\\node.cpp:1620:\nShape inference of Concat node with name __module.model.11/aten::cat/Concat failed: Check 'TRShape::merge_into(output_shape, in_copy)' failed at src\\core\\shape_inference\\include\\concat_shape_inference.hpp:49:\nWhile validating node 'opset1::Concat __module.model.11/aten::cat/Concat (opset4::Interpolate __module.model.10/aten::upsample_nearest2d/Interpolate[0]:f32[?,256,2..,2..], cpu_plugin_opset::SwishCPU __module.model.22.cv3.2.1.act/aten::silu_/Swish_19[0]:f32[?,128,1..,1..]) -> (f32[?,384,2..,2..])' with friendly_name '__module.model.11/aten::cat/Concat':\nShape inference input shapes {{1,256,46,80},{1,128,45,80}}\nArgument shapes are inconsistent; they must have the same rank, and must have equal dimension everywhere except on the concatenation axis (axis 1).\n\n\n",
     "output_type": "error",
     "traceback": [
      "\u001B[1;31m---------------------------------------------------------------------------\u001B[0m",
      "\u001B[1;31mRuntimeError\u001B[0m                              Traceback (most recent call last)",
      "Cell \u001B[1;32mIn[21], line 1\u001B[0m\n\u001B[1;32m----> 1\u001B[0m result \u001B[38;5;241m=\u001B[39m \u001B[43mir\u001B[49m\u001B[38;5;241;43m.\u001B[39;49m\u001B[43minfer\u001B[49m\u001B[43m(\u001B[49m\u001B[43minput_data\u001B[49m\u001B[43m)\u001B[49m[output_layer]\n\u001B[0;32m      2\u001B[0m \u001B[38;5;28mprint\u001B[39m(\u001B[38;5;124m\"\u001B[39m\u001B[38;5;124m推理结果:\u001B[39m\u001B[38;5;124m\"\u001B[39m, result)\n",
      "File \u001B[1;32m~\\AppData\\Local\\Programs\\Python\\Python310\\lib\\site-packages\\openvino\\runtime\\ie_api.py:132\u001B[0m, in \u001B[0;36mInferRequest.infer\u001B[1;34m(self, inputs, share_inputs, share_outputs, decode_strings)\u001B[0m\n\u001B[0;32m     55\u001B[0m \u001B[38;5;28;01mdef\u001B[39;00m \u001B[38;5;21minfer\u001B[39m(\n\u001B[0;32m     56\u001B[0m     \u001B[38;5;28mself\u001B[39m,\n\u001B[0;32m     57\u001B[0m     inputs: Any \u001B[38;5;241m=\u001B[39m \u001B[38;5;28;01mNone\u001B[39;00m,\n\u001B[1;32m   (...)\u001B[0m\n\u001B[0;32m     61\u001B[0m     decode_strings: \u001B[38;5;28mbool\u001B[39m \u001B[38;5;241m=\u001B[39m \u001B[38;5;28;01mTrue\u001B[39;00m,\n\u001B[0;32m     62\u001B[0m ) \u001B[38;5;241m-\u001B[39m\u001B[38;5;241m>\u001B[39m OVDict:\n\u001B[0;32m     63\u001B[0m \u001B[38;5;250m    \u001B[39m\u001B[38;5;124;03m\"\"\"Infers specified input(s) in synchronous mode.\u001B[39;00m\n\u001B[0;32m     64\u001B[0m \n\u001B[0;32m     65\u001B[0m \u001B[38;5;124;03m    Blocks all methods of InferRequest while request is running.\u001B[39;00m\n\u001B[1;32m   (...)\u001B[0m\n\u001B[0;32m    130\u001B[0m \u001B[38;5;124;03m    :rtype: OVDict\u001B[39;00m\n\u001B[0;32m    131\u001B[0m \u001B[38;5;124;03m    \"\"\"\u001B[39;00m\n\u001B[1;32m--> 132\u001B[0m     \u001B[38;5;28;01mreturn\u001B[39;00m OVDict(\u001B[38;5;28;43msuper\u001B[39;49m\u001B[43m(\u001B[49m\u001B[43m)\u001B[49m\u001B[38;5;241;43m.\u001B[39;49m\u001B[43minfer\u001B[49m\u001B[43m(\u001B[49m\u001B[43m_data_dispatch\u001B[49m\u001B[43m(\u001B[49m\n\u001B[0;32m    133\u001B[0m \u001B[43m        \u001B[49m\u001B[38;5;28;43mself\u001B[39;49m\u001B[43m,\u001B[49m\n\u001B[0;32m    134\u001B[0m \u001B[43m        \u001B[49m\u001B[43minputs\u001B[49m\u001B[43m,\u001B[49m\n\u001B[0;32m    135\u001B[0m \u001B[43m        \u001B[49m\u001B[43mis_shared\u001B[49m\u001B[38;5;241;43m=\u001B[39;49m\u001B[43mshare_inputs\u001B[49m\u001B[43m,\u001B[49m\n\u001B[0;32m    136\u001B[0m \u001B[43m    \u001B[49m\u001B[43m)\u001B[49m\u001B[43m,\u001B[49m\u001B[43m \u001B[49m\u001B[43mshare_outputs\u001B[49m\u001B[38;5;241;43m=\u001B[39;49m\u001B[43mshare_outputs\u001B[49m\u001B[43m,\u001B[49m\u001B[43m \u001B[49m\u001B[43mdecode_strings\u001B[49m\u001B[38;5;241;43m=\u001B[39;49m\u001B[43mdecode_strings\u001B[49m\u001B[43m)\u001B[49m)\n",
      "\u001B[1;31mRuntimeError\u001B[0m: Exception from src\\inference\\src\\cpp\\infer_request.cpp:223:\nException from src\\plugins\\intel_cpu\\src\\node.cpp:1620:\nShape inference of Concat node with name __module.model.11/aten::cat/Concat failed: Check 'TRShape::merge_into(output_shape, in_copy)' failed at src\\core\\shape_inference\\include\\concat_shape_inference.hpp:49:\nWhile validating node 'opset1::Concat __module.model.11/aten::cat/Concat (opset4::Interpolate __module.model.10/aten::upsample_nearest2d/Interpolate[0]:f32[?,256,2..,2..], cpu_plugin_opset::SwishCPU __module.model.22.cv3.2.1.act/aten::silu_/Swish_19[0]:f32[?,128,1..,1..]) -> (f32[?,384,2..,2..])' with friendly_name '__module.model.11/aten::cat/Concat':\nShape inference input shapes {{1,256,46,80},{1,128,45,80}}\nArgument shapes are inconsistent; they must have the same rank, and must have equal dimension everywhere except on the concatenation axis (axis 1).\n\n\n"
     ]
    }
   ],
   "source": [
    "result = ir.infer(input_data)[model.outputs[0]]\n",
    "print(\"推理结果:\", result)"
   ],
   "metadata": {
    "collapsed": false,
    "ExecuteTime": {
     "end_time": "2024-06-06T03:46:30.015703300Z",
     "start_time": "2024-06-06T03:46:29.982650700Z"
    }
   },
   "id": "aa18b80682de8872"
  },
  {
   "cell_type": "code",
   "execution_count": null,
   "outputs": [],
   "source": [],
   "metadata": {
    "collapsed": false
   },
   "id": "6bc4167477558710"
  }
 ],
 "metadata": {
  "kernelspec": {
   "display_name": "Python 3 (ipykernel)",
   "language": "python",
   "name": "python3"
  },
  "language_info": {
   "codemirror_mode": {
    "name": "ipython",
    "version": 3
   },
   "file_extension": ".py",
   "mimetype": "text/x-python",
   "name": "python",
   "nbconvert_exporter": "python",
   "pygments_lexer": "ipython3",
   "version": "3.10.10"
  }
 },
 "nbformat": 4,
 "nbformat_minor": 5
}
