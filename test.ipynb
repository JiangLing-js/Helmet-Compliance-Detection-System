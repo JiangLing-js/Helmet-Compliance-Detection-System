{
 "cells": [
  {
   "cell_type": "code",
   "execution_count": 36,
   "id": "initial_id",
   "metadata": {
    "collapsed": true,
    "ExecuteTime": {
     "end_time": "2024-06-06T05:22:37.908671200Z",
     "start_time": "2024-06-06T05:22:37.322573100Z"
    }
   },
   "outputs": [
    {
     "ename": "KeyError",
     "evalue": "21345",
     "output_type": "error",
     "traceback": [
      "\u001B[1;31m---------------------------------------------------------------------------\u001B[0m",
      "\u001B[1;31mKeyError\u001B[0m                                  Traceback (most recent call last)",
      "Cell \u001B[1;32mIn[36], line 62\u001B[0m\n\u001B[0;32m     60\u001B[0m outs \u001B[38;5;241m=\u001B[39m ir\u001B[38;5;241m.\u001B[39minfer(blob)[output_node]\n\u001B[0;32m     61\u001B[0m \u001B[38;5;66;03m# 对推理结果进行后处理\u001B[39;00m\n\u001B[1;32m---> 62\u001B[0m score, \u001B[38;5;28mid\u001B[39m, label \u001B[38;5;241m=\u001B[39m \u001B[43mpostprocess\u001B[49m\u001B[43m(\u001B[49m\u001B[43mouts\u001B[49m\u001B[43m)\u001B[49m\n\u001B[0;32m     64\u001B[0m \u001B[38;5;66;03m##########################################\u001B[39;00m\n\u001B[0;32m     65\u001B[0m \u001B[38;5;66;03m#   ----- 统计带前后预处理的AI推理性能------\u001B[39;00m\n\u001B[0;32m     66\u001B[0m \u001B[38;5;66;03m##########################################\u001B[39;00m\n\u001B[0;32m     67\u001B[0m start \u001B[38;5;241m=\u001B[39m time\u001B[38;5;241m.\u001B[39mtime()\n",
      "Cell \u001B[1;32mIn[36], line 50\u001B[0m, in \u001B[0;36mpostprocess\u001B[1;34m(outs)\u001B[0m\n\u001B[0;32m     48\u001B[0m score \u001B[38;5;241m=\u001B[39m np\u001B[38;5;241m.\u001B[39mmax(outs)\n\u001B[0;32m     49\u001B[0m \u001B[38;5;28mid\u001B[39m \u001B[38;5;241m=\u001B[39m np\u001B[38;5;241m.\u001B[39margmax(outs)\n\u001B[1;32m---> 50\u001B[0m \u001B[38;5;28;01mreturn\u001B[39;00m score, \u001B[38;5;28mid\u001B[39m, \u001B[43mimagenet_labels\u001B[49m\u001B[43m[\u001B[49m\u001B[38;5;28;43mid\u001B[39;49m\u001B[43m]\u001B[49m\n",
      "\u001B[1;31mKeyError\u001B[0m: 21345"
     ]
    }
   ],
   "source": [
    "from pathlib import Path\n",
    "import cv2\n",
    "import numpy as np\n",
    "from openvino.runtime import Core\n",
    "import cv2, time, onnxruntime\n",
    "\n",
    "# 载入ImageNet标签\n",
    "session = onnxruntime.InferenceSession(f'bicycle_weights/best.onnx', providers=['CPUExecutionProvider'])\n",
    "meta = session.get_modelmeta().custom_metadata_map  # metadata\n",
    "imagenet_labels = eval(meta['names'])\n",
    "\n",
    "# 初始化 OpenVINO Core\n",
    "core = Core()\n",
    "\n",
    "# 加载电动车和头盔检测模型\n",
    "model_path = Path(\"bicycle_weights/best_openvino_model/best.xml\")\n",
    "compiled_model = core.compile_model(model=model_path, device_name=\"CPU\")\n",
    "\n",
    "model_path_helmet = Path(\"runs/detect/train7/weights/best_openvino_model/best.xml\")\n",
    "compiled_model_helmet = core.compile_model(model=model_path_helmet, device_name=\"CPU\")\n",
    "\n",
    "# 测试图片集\n",
    "test_images = [\"test_image_1.jpg\", \"test_image_2.png\"]\n",
    "final_results = []\n",
    "\n",
    "# 确保所有输入图像尺寸一致，适配网络输入要求\n",
    "input_node = compiled_model.inputs[0]    # yolov8n-cls只有一个输入节点\n",
    "# N, C, H, W = input_node.shape # 获得输入张量的形状\n",
    "H, W = 512, 512\n",
    "output_node = compiled_model.outputs[0]  # yolov8n-cls只有一个输出节点\n",
    "ir = compiled_model.create_infer_request()\n",
    "##########################################\n",
    "#   ---根据模型定义预处理和后处理函数-------\n",
    "##########################################\n",
    "\n",
    "# 定义预处理函数\n",
    "def preprocess(image, new_shape=(W,H)):\n",
    "    # Preprocess image data from OpenCV\n",
    "    [height, width, _] = image.shape\n",
    "    length = max((height, width))\n",
    "    letter_box = np.zeros((length, length, 3), np.uint8)\n",
    "    letter_box[0:height, 0:width] = image\n",
    "    blob = cv2.dnn.blobFromImage(image, scalefactor=1 / 255, size=new_shape, swapRB=True)\n",
    "    return blob\n",
    "\n",
    "# 定义后处理函数\n",
    "def postprocess(outs):\n",
    "    score = np.max(outs)\n",
    "    id = np.argmax(outs)\n",
    "    return score, id, imagenet_labels[id]\n",
    "\n",
    "##########################################\n",
    "#   ----- AI同步推理计算 ------------\n",
    "##########################################\n",
    "# 采集图像\n",
    "image = cv2.imread(test_images[1])\n",
    "# 数据预处理\n",
    "blob = preprocess(image)\n",
    "# 执行推理计算并获得结果\n",
    "outs = ir.infer(blob)[output_node]\n",
    "# 对推理结果进行后处理\n",
    "score, id, label = postprocess(outs)\n",
    "\n",
    "##########################################\n",
    "#   ----- 统计带前后预处理的AI推理性能------\n",
    "##########################################\n",
    "start = time.time()\n",
    "N = 4000\n",
    "for i in range(N):\n",
    "    blob = preprocess(image)\n",
    "    outs = ir.infer(blob)[output_node]\n",
    "    score, id, label = postprocess(outs)\n",
    "FPS = N / (time.time() - start) \n",
    "\n",
    "##########################################\n",
    "#   ----- 后处理结果集成到AI应用程序 -------\n",
    "##########################################\n",
    "# 显示处理结果\n",
    "msg = f\"YOLOv5s-cls Result:{label}, Score:{score:4.2f}, FPS:{FPS:4.2f}\"\n",
    "cv2.putText(image, msg, (10, 50), cv2.FONT_HERSHEY_SIMPLEX, 0.8, (100, 100, 200), 2)\n",
    "cv2.imshow(\"YOLOv5s-cls OpenVINO Sync Infer Demo\",image)\n",
    "cv2.waitKey()\n",
    "cv2.destroyAllWindows()\n"
   ]
  },
  {
   "cell_type": "code",
   "execution_count": 31,
   "outputs": [
    {
     "name": "stdout",
     "output_type": "stream",
     "text": [
      "(1, 10, 5376)\n",
      "[     2.5893      24.829      29.298 ...      429.54      443.47      461.93]\n"
     ]
    }
   ],
   "source": [
    "a = np.array(outs.data)\n",
    "print(a.shape)\n",
    "print(a[0][0])"
   ],
   "metadata": {
    "collapsed": false,
    "ExecuteTime": {
     "end_time": "2024-06-06T05:12:40.801097300Z",
     "start_time": "2024-06-06T05:12:40.786405200Z"
    }
   },
   "id": "2b26e31bb389759c"
  },
  {
   "cell_type": "code",
   "execution_count": 28,
   "outputs": [
    {
     "name": "stdout",
     "output_type": "stream",
     "text": [
      "0: 640x640 7 motorbikes, 19.9ms\n",
      "1: 640x640 5 motorbikes, 19.9ms\n",
      "Speed: 3.0ms preprocess, 19.9ms inference, 1.5ms postprocess per image at shape (1, 3, 640, 640)\n",
      "ultralytics.engine.results.Boxes object with attributes:\n",
      "\n",
      "cls: tensor([4., 4., 4., 4., 4., 4., 4.], device='cuda:0')\n",
      "conf: tensor([0.9084, 0.8214, 0.7787, 0.7605, 0.5886, 0.3811, 0.2893], device='cuda:0')\n",
      "data: tensor([[4.2809e+02, 4.2317e+02, 5.5294e+02, 5.7350e+02, 9.0841e-01, 4.0000e+00],\n",
      "        [6.6189e+02, 4.2971e+02, 7.8865e+02, 6.2152e+02, 8.2142e-01, 4.0000e+00],\n",
      "        [1.0113e+03, 4.3394e+02, 1.0951e+03, 5.4577e+02, 7.7873e-01, 4.0000e+00],\n",
      "        [0.0000e+00, 4.5578e+02, 1.9604e+02, 7.2000e+02, 7.6046e-01, 4.0000e+00],\n",
      "        [1.1030e+03, 4.3458e+02, 1.1461e+03, 5.0438e+02, 5.8860e-01, 4.0000e+00],\n",
      "        [9.2572e+02, 4.4165e+02, 9.7931e+02, 5.0921e+02, 3.8109e-01, 4.0000e+00],\n",
      "        [7.6975e+02, 4.3267e+02, 8.7460e+02, 5.4604e+02, 2.8931e-01, 4.0000e+00]], device='cuda:0')\n",
      "id: None\n",
      "is_track: False\n",
      "orig_shape: (720, 1280)\n",
      "shape: torch.Size([7, 6])\n",
      "xywh: tensor([[ 490.5181,  498.3374,  124.8505,  150.3259],\n",
      "        [ 725.2690,  525.6142,  126.7601,  191.8038],\n",
      "        [1053.1656,  489.8540,   83.7922,  111.8303],\n",
      "        [  98.0192,  587.8889,  196.0384,  264.2222],\n",
      "        [1124.5186,  469.4811,   43.1235,   69.7927],\n",
      "        [ 952.5184,  475.4310,   53.5879,   67.5538],\n",
      "        [ 822.1782,  489.3551,  104.8491,  113.3721]], device='cuda:0')\n",
      "xywhn: tensor([[0.3832, 0.6921, 0.0975, 0.2088],\n",
      "        [0.5666, 0.7300, 0.0990, 0.2664],\n",
      "        [0.8228, 0.6804, 0.0655, 0.1553],\n",
      "        [0.0766, 0.8165, 0.1532, 0.3670],\n",
      "        [0.8785, 0.6521, 0.0337, 0.0969],\n",
      "        [0.7442, 0.6603, 0.0419, 0.0938],\n",
      "        [0.6423, 0.6797, 0.0819, 0.1575]], device='cuda:0')\n",
      "xyxy: tensor([[ 428.0928,  423.1744,  552.9434,  573.5004],\n",
      "        [ 661.8889,  429.7123,  788.6490,  621.5161],\n",
      "        [1011.2695,  433.9388, 1095.0618,  545.7692],\n",
      "        [   0.0000,  455.7778,  196.0384,  720.0000],\n",
      "        [1102.9568,  434.5848, 1146.0803,  504.3775],\n",
      "        [ 925.7245,  441.6541,  979.3124,  509.2079],\n",
      "        [ 769.7537,  432.6691,  874.6028,  546.0411]], device='cuda:0')\n",
      "xyxyn: tensor([[0.3344, 0.5877, 0.4320, 0.7965],\n",
      "        [0.5171, 0.5968, 0.6161, 0.8632],\n",
      "        [0.7901, 0.6027, 0.8555, 0.7580],\n",
      "        [0.0000, 0.6330, 0.1532, 1.0000],\n",
      "        [0.8617, 0.6036, 0.8954, 0.7005],\n",
      "        [0.7232, 0.6134, 0.7651, 0.7072],\n",
      "        [0.6014, 0.6009, 0.6833, 0.7584]], device='cuda:0')\n"
     ]
    }
   ],
   "source": [
    "from ultralytics import YOLO\n",
    "model_ = YOLO(r\"bicycle_weights\\best.pt\")\n",
    "results = model_(test_images)\n",
    "print(results[0].boxes)"
   ],
   "metadata": {
    "collapsed": false,
    "ExecuteTime": {
     "end_time": "2024-06-06T05:11:24.772656400Z",
     "start_time": "2024-06-06T05:11:24.548782600Z"
    }
   },
   "id": "e77ffab13676c695"
  },
  {
   "cell_type": "code",
   "execution_count": null,
   "outputs": [],
   "source": [],
   "metadata": {
    "collapsed": false
   },
   "id": "bf409582e7b561c2"
  }
 ],
 "metadata": {
  "kernelspec": {
   "display_name": "Python 3",
   "language": "python",
   "name": "python3"
  },
  "language_info": {
   "codemirror_mode": {
    "name": "ipython",
    "version": 2
   },
   "file_extension": ".py",
   "mimetype": "text/x-python",
   "name": "python",
   "nbconvert_exporter": "python",
   "pygments_lexer": "ipython2",
   "version": "2.7.6"
  }
 },
 "nbformat": 4,
 "nbformat_minor": 5
}
