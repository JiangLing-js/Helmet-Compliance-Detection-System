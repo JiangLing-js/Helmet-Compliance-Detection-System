{
 "cells": [
  {
   "cell_type": "code",
   "execution_count": 14,
   "id": "initial_id",
   "metadata": {
    "collapsed": true,
    "ExecuteTime": {
     "end_time": "2024-06-06T04:15:42.183412500Z",
     "start_time": "2024-06-06T04:15:41.773626700Z"
    }
   },
   "outputs": [
    {
     "name": "stdout",
     "output_type": "stream",
     "text": [
      "507.4549\n",
      "3903\n"
     ]
    }
   ],
   "source": [
    "from pathlib import Path\n",
    "import cv2\n",
    "import numpy as np\n",
    "from openvino.runtime import Core\n",
    "\n",
    "# 初始化 OpenVINO Core\n",
    "core = Core()\n",
    "\n",
    "# 加载电动车和头盔检测模型\n",
    "model_path = Path(\"bicycle_weights/best_openvino_model/best.xml\")\n",
    "compiled_model = core.compile_model(model=model_path, device_name=\"CPU\")\n",
    "\n",
    "model_path_helmet = Path(\"runs/detect/train7/weights/best_openvino_model/best.xml\")\n",
    "compiled_model_helmet = core.compile_model(model=model_path_helmet, device_name=\"CPU\")\n",
    "\n",
    "# 测试图片集\n",
    "test_images = [\"test_image_1.jpg\", \"test_image_2.png\"]\n",
    "final_results = []\n",
    "\n",
    "# 确保所有输入图像尺寸一致，适配网络输入要求\n",
    "target_size = (512, 512)  # 假定模型需要512x512尺寸的输入\n",
    "imagenet_labels = {  0: \"car\",\n",
    "  1: \"threewheel\",\n",
    "  2: \"bus\",\n",
    "  3: \"truck\",\n",
    "  4: \"motorbike\",\n",
    "  5: \"van\"}\n",
    "def postprocess(outs):\n",
    "    score = np.max(outs)\n",
    "    id = np.argmax(outs)\n",
    "    return score, id, imagenet_labels[id]\n",
    "\n",
    "# 处理每张图片\n",
    "for image_path in test_images:\n",
    "    image = cv2.imread(image_path)\n",
    "    image = cv2.resize(image, target_size)  # 调整图像尺寸\n",
    "    image_height, image_width, _ = image.shape\n",
    "\n",
    "    # 预处理图像\n",
    "    input_blob = np.expand_dims(image.transpose(2, 0, 1), 0)  # 转换为模型所需的格式\n",
    "    # 执行推理\n",
    "    results = compiled_model.infer_new_request({0: input_blob})\n",
    "    break\n",
    "    # 后处理\n",
    "outs = results[compiled_model.outputs[0]]\n",
    "print(np.max(outs))\n",
    "print(np.argmax(outs))\n",
    "#     detections = results.get_tensor('detection_output').data  # 替换为实际输出层名\n",
    "#     for detection in detections:\n",
    "#         # 筛选出电动车的检测结果\n",
    "#         if int(detection[1]) == 4:  # 假设类别ID为4代表电动车\n",
    "#             x1, y1, x2, y2 = map(int, detection[3:7] * [image_width, image_height, image_width, image_height])\n",
    "#             # 裁剪图像以检测头盔\n",
    "#             cropped_image = image[y1:y2, x1:x2]\n",
    "#             cropped_image = cv2.resize(cropped_image, target_size)  # 调整裁剪图像尺寸\n",
    "#             cropped_blob = np.expand_dims(cropped_image.transpose(2, 0, 1), 0)\n",
    "# \n",
    "#             # 头盔检测推理\n",
    "#             helmet_results = compiled_model_helmet.infer_new_request({0: cropped_blob})\n",
    "#             helmet_detections = helmet_results.get_tensor('detection_output').data\n",
    "# \n",
    "#             # 处理头盔检测结果\n",
    "#             for helmet_detection in helmet_detections:\n",
    "#                 if int(helmet_detection[1]) == 0:  # 假设类别ID为0代表头盔\n",
    "#                     hx1, hy1, hx2, hy2 = map(int, helmet_detection[3:7] * [x2 - x1, y2 - y1, x2 - x1, y2 - y1])\n",
    "#                     cv2.rectangle(cropped_image, (hx1, hy1), (hx2, hy2), (0, 255, 0), 2)  # 绿色框表示头盔\n",
    "# \n",
    "#             # 将处理后的区域写回原始图像\n",
    "#             image[y1:y2, x1:x2] = cropped_image\n",
    "# \n",
    "#             # 保存结果\n",
    "#             final_results.append({\n",
    "#                 'scooter_bbox': (x1, y1, x2, y2),\n",
    "#                 'helmet_detection': helmet_detections\n",
    "#             })\n",
    "# \n",
    "#     # 保存标注后的图像\n",
    "#     annotated_image_path = f'annotated_{Path(image_path).stem}.jpg'\n",
    "#     cv2.imwrite(annotated_image_path, image)\n",
    "# \n",
    "# # 输出处理结果\n",
    "# for result in final_results:\n",
    "#     print(result)\n"
   ]
  },
  {
   "cell_type": "code",
   "execution_count": null,
   "outputs": [],
   "source": [],
   "metadata": {
    "collapsed": false
   },
   "id": "2b26e31bb389759c"
  },
  {
   "cell_type": "code",
   "execution_count": null,
   "outputs": [],
   "source": [],
   "metadata": {
    "collapsed": false
   },
   "id": "e77ffab13676c695"
  }
 ],
 "metadata": {
  "kernelspec": {
   "display_name": "Python 3",
   "language": "python",
   "name": "python3"
  },
  "language_info": {
   "codemirror_mode": {
    "name": "ipython",
    "version": 2
   },
   "file_extension": ".py",
   "mimetype": "text/x-python",
   "name": "python",
   "nbconvert_exporter": "python",
   "pygments_lexer": "ipython2",
   "version": "2.7.6"
  }
 },
 "nbformat": 4,
 "nbformat_minor": 5
}
